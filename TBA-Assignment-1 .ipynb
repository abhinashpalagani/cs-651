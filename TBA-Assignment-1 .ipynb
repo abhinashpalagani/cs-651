{
 "cells": [
  {
   "cell_type": "markdown",
   "id": "440e0cf8",
   "metadata": {},
   "source": [
    "# CS-651-A TEXT BASED ANALYSIS  \n",
    "# Abhinash\n",
    "# Assignment - 1  4/6/2024"
   ]
  },
  {
   "cell_type": "markdown",
   "id": "74feb637",
   "metadata": {},
   "source": [
    "## Performing some String operations on the given data"
   ]
  },
  {
   "cell_type": "markdown",
   "id": "6c26a272",
   "metadata": {},
   "source": [
    "1. Repetition (*) which repeats a string a specified number of times."
   ]
  },
  {
   "cell_type": "code",
   "execution_count": 3,
   "id": "43b4c6d1",
   "metadata": {},
   "outputs": [
    {
     "name": "stdout",
     "output_type": "stream",
     "text": [
      "Hello WorldHello WorldHello World\n"
     ]
    }
   ],
   "source": [
    "s = \"Hello World\"\n",
    "print(s*3)"
   ]
  },
  {
   "cell_type": "markdown",
   "id": "cc3908b8",
   "metadata": {},
   "source": [
    "2. Indexing ([]) accesses a character in a string by its position."
   ]
  },
  {
   "cell_type": "code",
   "execution_count": 4,
   "id": "a488d22c",
   "metadata": {},
   "outputs": [
    {
     "name": "stdout",
     "output_type": "stream",
     "text": [
      "l\n"
     ]
    }
   ],
   "source": [
    "s = \"Hello World\"\n",
    "print(s[3])"
   ]
  },
  {
   "cell_type": "markdown",
   "id": "5b925d7d",
   "metadata": {},
   "source": [
    "3.Length (len) which returns the number of characters in a string."
   ]
  },
  {
   "cell_type": "code",
   "execution_count": 7,
   "id": "90e76e96",
   "metadata": {},
   "outputs": [
    {
     "name": "stdout",
     "output_type": "stream",
     "text": [
      "length of the string: 61\n"
     ]
    }
   ],
   "source": [
    "a=\"Never stop believing in hope because miracles happen everyday\"\n",
    "print(\"length of the string:\",len(a))"
   ]
  },
  {
   "cell_type": "markdown",
   "id": "62996d02",
   "metadata": {},
   "source": [
    "4.The find method returns the lowest index of the substring if it is found in the string. If it's not found, it returns -1."
   ]
  },
  {
   "cell_type": "code",
   "execution_count": 8,
   "id": "eee380c1",
   "metadata": {},
   "outputs": [
    {
     "name": "stdout",
     "output_type": "stream",
     "text": [
      "Substring found at position: 7\n"
     ]
    }
   ],
   "source": [
    "text = \"Hello, world!\"\n",
    "substring = \"world\"\n",
    "\n",
    "position = text.find(substring)\n",
    "\n",
    "if position != -1:\n",
    "    print(f\"Substring found at position: {position}\")\n",
    "else:\n",
    "    print(\"Substring not found\")\n"
   ]
  },
  {
   "cell_type": "code",
   "execution_count": 1,
   "id": "59555b47",
   "metadata": {},
   "outputs": [
    {
     "name": "stdout",
     "output_type": "stream",
     "text": [
      "6\n",
      "-1\n",
      "Hello sita, How are you\n"
     ]
    }
   ],
   "source": [
    "#find substring\n",
    "x=\"Hello vandana, How are you\"\n",
    "a=x.find(\"vandana\")\n",
    "b=x.find(\"world\")\n",
    "\n",
    "# replace substring\n",
    "given_string = x.replace(\"vandana\", \"sita\")\n",
    "\n",
    "\n",
    "print(f'{a}')\n",
    "print(f'{b}')\n",
    "print(f'{given_string}')"
   ]
  },
  {
   "cell_type": "markdown",
   "id": "fad3ccaa",
   "metadata": {},
   "source": [
    "5.title() method is used to convert the first character of each word in a string to uppercase and the rest to lowercase."
   ]
  },
  {
   "cell_type": "code",
   "execution_count": 9,
   "id": "ec95938e",
   "metadata": {},
   "outputs": [
    {
     "name": "stdout",
     "output_type": "stream",
     "text": [
      "Hello, World\n"
     ]
    }
   ],
   "source": [
    "s = \"hello, world\"\n",
    "print(s.title())\n"
   ]
  },
  {
   "cell_type": "markdown",
   "id": "45a20a2a",
   "metadata": {},
   "source": [
    "6.capitalize() method transforms the first character of the string to uppercase and changes all other characters to lowercase. "
   ]
  },
  {
   "cell_type": "code",
   "execution_count": 11,
   "id": "5540904c",
   "metadata": {},
   "outputs": [
    {
     "name": "stdout",
     "output_type": "stream",
     "text": [
      "Universal truth that nothing lasts forever.\n"
     ]
    }
   ],
   "source": [
    "text = \"universal truth that nothing lasts forever.\"\n",
    "print(text.capitalize())\n"
   ]
  },
  {
   "cell_type": "markdown",
   "id": "0a89d085",
   "metadata": {},
   "source": [
    "# Regular expressions"
   ]
  },
  {
   "cell_type": "markdown",
   "id": "0e7e0237",
   "metadata": {},
   "source": [
    "1.program to find all occurrences of a specific word, in this case, \"Lorem\"."
   ]
  },
  {
   "cell_type": "code",
   "execution_count": 5,
   "id": "aa8b1044",
   "metadata": {},
   "outputs": [
    {
     "name": "stdout",
     "output_type": "stream",
     "text": [
      "Occurrences of 'Lorem': 2\n"
     ]
    }
   ],
   "source": [
    "import re\n",
    "# 1. Find all occurrences of \"Lorem\"\n",
    "text = \"Lorem Ipsum is simply dummy text of the printing and typesetting industry.Lorem Ipsum has been the industry's standard dummy text ever since the 1500s, when an unknown printer took a galley of type and scrambled it to make a type specimen book. It has survived not only five centuries, but also the leap into electronic typesetting, remaining essentially unchanged.\"\n",
    "\n",
    "count = re.findall(r\"Lorem\", text)\n",
    "print(\"Occurrences of 'Lorem':\", len(count))"
   ]
  },
  {
   "cell_type": "markdown",
   "id": "2d1b342f",
   "metadata": {},
   "source": [
    "2.program to replace all digits with the phrase \"[number]\" to specific dates or numbers."
   ]
  },
  {
   "cell_type": "code",
   "execution_count": 6,
   "id": "ec79b75d",
   "metadata": {},
   "outputs": [
    {
     "name": "stdout",
     "output_type": "stream",
     "text": [
      "\n",
      "Text with numbers replaced:\n",
      " Lorem Ipsum is simply dummy text of the printing and typesetting industry.Lorem Ipsum has been the industry's standard dummy text ever since the [number][number][number][number]s, when an unknown printer took a galley of type and scrambled it to make a type specimen book. It has survived not only five centuries, but also the leap into electronic typesetting, remaining essentially unchanged.\n"
     ]
    }
   ],
   "source": [
    "# 2. Replace all digits with \"[number]\"\n",
    "import re\n",
    "text = \"Lorem Ipsum is simply dummy text of the printing and typesetting industry.Lorem Ipsum has been the industry's standard dummy text ever since the 1500s, when an unknown printer took a galley of type and scrambled it to make a type specimen book. It has survived not only five centuries, but also the leap into electronic typesetting, remaining essentially unchanged.\"\n",
    "numbers_hide = re.sub(r\"\\d\", \"[number]\", text)\n",
    "print(\"\\nText with numbers replaced:\\n\", numbers_hide)\n"
   ]
  },
  {
   "cell_type": "markdown",
   "id": "6e7dd8b6",
   "metadata": {},
   "source": [
    "3. Extract sentences that contain the word \"industry\"."
   ]
  },
  {
   "cell_type": "code",
   "execution_count": 7,
   "id": "fa5bb1d7",
   "metadata": {},
   "outputs": [
    {
     "data": {
      "text/plain": [
       "['Lorem Ipsum is simply dummy text of the printing and typesetting industry.',\n",
       " \"Lorem Ipsum has been the industry's standard dummy text ever since the 1500s, when an unknown printer took a galley of type and scrambled it to make a type specimen book.\"]"
      ]
     },
     "execution_count": 7,
     "metadata": {},
     "output_type": "execute_result"
    }
   ],
   "source": [
    "import re\n",
    "text = \"Lorem Ipsum is simply dummy text of the printing and typesetting industry.Lorem Ipsum has been the industry's standard dummy text ever since the 1500s, when an unknown printer took a galley of type and scrambled it to make a type specimen book. It has survived not only five centuries, but also the leap into electronic typesetting, remaining essentially unchanged.\"\n",
    "extract_industry = re.findall(r\"[^.]*?industry[^.]*\\.\", text)\n",
    "extract_industry"
   ]
  },
  {
   "cell_type": "markdown",
   "id": "0429249d",
   "metadata": {},
   "source": [
    "4.program to count the number of sentences in a given paragraph"
   ]
  },
  {
   "cell_type": "code",
   "execution_count": 8,
   "id": "c56495bf",
   "metadata": {},
   "outputs": [
    {
     "name": "stdout",
     "output_type": "stream",
     "text": [
      "The number of sentences in a given paragraph: 2\n"
     ]
    }
   ],
   "source": [
    "# Counting the number of sentences\n",
    "import re\n",
    "text = \"Lorem Ipsum is simply dummy text of the printing and typesetting industry.Lorem Ipsum has been the industry's standard dummy text ever since the 1500s, when an unknown printer took a galley of type and scrambled it to make a type specimen book. It has survived not only five centuries, but also the leap into electronic typesetting, remaining essentially unchanged.\"\n",
    "sentence_count = len(re.findall(r'\\.\\s', text)) + 1 \n",
    "print(\"The number of sentences in a given paragraph:\",sentence_count)"
   ]
  },
  {
   "cell_type": "markdown",
   "id": "ca0c8c5e",
   "metadata": {},
   "source": [
    "5.Replacing all instances of 'Lorem' with 'Found'i.e it replaces each occurrence of \"Lorem\" with \"Found\", demonstrating how regex can be used for text replacement operations."
   ]
  },
  {
   "cell_type": "code",
   "execution_count": 9,
   "id": "25b11c3c",
   "metadata": {},
   "outputs": [
    {
     "data": {
      "text/plain": [
       "\"Found Ipsum is simply dummy text of the printing and typesetting industry.Found Ipsum has been the industry's standard dummy text ever since the 1500s, when an unknown printer took a galley of type and scrambled it to make a type specimen book. It has survived not only five centuries, but also the leap into electronic typesetting, remaining essentially unchanged.\""
      ]
     },
     "execution_count": 9,
     "metadata": {},
     "output_type": "execute_result"
    }
   ],
   "source": [
    "import re\n",
    "text = \"Lorem Ipsum is simply dummy text of the printing and typesetting industry.Lorem Ipsum has been the industry's standard dummy text ever since the 1500s, when an unknown printer took a galley of type and scrambled it to make a type specimen book. It has survived not only five centuries, but also the leap into electronic typesetting, remaining essentially unchanged.\"\n",
    "text_replace = re.sub(r'Lorem', 'Found', text)\n",
    "text_replace "
   ]
  },
  {
   "cell_type": "markdown",
   "id": "e3de4cf5",
   "metadata": {},
   "source": [
    " 6.Search for any word starting with 't' and ending in 'e'"
   ]
  },
  {
   "cell_type": "code",
   "execution_count": 10,
   "id": "00764852",
   "metadata": {},
   "outputs": [
    {
     "data": {
      "text/plain": [
       "['the', 'the', 'the', 'type', 'type', 'the']"
      ]
     },
     "execution_count": 10,
     "metadata": {},
     "output_type": "execute_result"
    }
   ],
   "source": [
    "#Search for any word starting with 't' and ending in 'e'\n",
    "import re\n",
    "text = \"Lorem Ipsum is simply dummy text of the printing and typesetting industry.Lorem Ipsum has been the industry's standard dummy text ever since the 1500s, when an unknown printer took a galley of type and scrambled it to make a type specimen book. It has survived not only five centuries, but also the leap into electronic typesetting, remaining essentially unchanged.\"\n",
    "words = re.findall(r\"\\bt[a-z]*e\\b\", text)\n",
    "words"
   ]
  },
  {
   "cell_type": "markdown",
   "id": "2f92785c",
   "metadata": {},
   "source": [
    "7.program to identify the word which is followed by comma"
   ]
  },
  {
   "cell_type": "code",
   "execution_count": 11,
   "id": "5523e9cc",
   "metadata": {},
   "outputs": [
    {
     "data": {
      "text/plain": [
       "['1500s', 'centuries', 'typesetting']"
      ]
     },
     "execution_count": 11,
     "metadata": {},
     "output_type": "execute_result"
    }
   ],
   "source": [
    "# Identifying any word followed by a comma\n",
    "import re\n",
    "text = \"Lorem Ipsum is simply dummy text of the printing and typesetting industry.Lorem Ipsum has been the industry's standard dummy text ever since the 1500s, when an unknown printer took a galley of type and scrambled it to make a type specimen book. It has survived not only five centuries, but also the leap into electronic typesetting, remaining essentially unchanged.\"\n",
    "words_before_comma = re.findall(r'\\b(\\w+),', text)\n",
    "words_before_comma"
   ]
  },
  {
   "cell_type": "markdown",
   "id": "63f009c2",
   "metadata": {},
   "source": [
    "8.Matching Email Addresses uses the regex pattern [a-zA-Z0-9._%+-]+@[a-zA-Z0-9.-]+\\.[a-zA-Z]{2,}, we aim to find all email addresses in the text."
   ]
  },
  {
   "cell_type": "code",
   "execution_count": 12,
   "id": "b2a455bb",
   "metadata": {},
   "outputs": [
    {
     "name": "stdout",
     "output_type": "stream",
     "text": [
      "Email addresses found: ['jane.doe@example.com', 'john.smith@workplace.org', 'contact@ourteam.net']\n"
     ]
    }
   ],
   "source": [
    "text = \"Contact information for our team: Jane Doe - jane.doe@example.com, John Smith - john.smith@workplace.org. We are committed to maintaining the highest standards in our industry. Our team has grown significantly since the 2000s, embodying excellence and innovation. Feel free to reach out at contact@ourteam.net for more information. Stay updated and unchanged.\"\n",
    "\n",
    "# Matching email addresses\n",
    "emails = re.findall(r'[a-zA-Z0-9._%+-]+@[a-zA-Z0-9.-]+\\.[a-zA-Z]{2,}', text)\n",
    "print(\"Email addresses found:\", emails)\n"
   ]
  },
  {
   "cell_type": "code",
   "execution_count": null,
   "id": "1d732b6e",
   "metadata": {},
   "outputs": [],
   "source": []
  }
 ],
 "metadata": {
  "kernelspec": {
   "display_name": "Python 3 (ipykernel)",
   "language": "python",
   "name": "python3"
  },
  "language_info": {
   "codemirror_mode": {
    "name": "ipython",
    "version": 3
   },
   "file_extension": ".py",
   "mimetype": "text/x-python",
   "name": "python",
   "nbconvert_exporter": "python",
   "pygments_lexer": "ipython3",
   "version": "3.11.5"
  }
 },
 "nbformat": 4,
 "nbformat_minor": 5
}
